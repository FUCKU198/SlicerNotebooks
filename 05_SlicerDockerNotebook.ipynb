{
 "cells": [
  {
   "cell_type": "markdown",
   "metadata": {},
   "source": [
    "# Slicer Jupyter using docker\n",
    "\n",
    "This notebook is shows how views and full application window can be displayed and configured to be used in JupyterLab when Slicer runs in docker or on a remote workstation.\n",
    "\n",
    "It relies on a remote desktop connection and web proxy set up in the [slicer-notebook docker image](https://github.com/Slicer/SlicerDocker/tree/master/slicer-notebook).\n",
    "\n",
    "This notebook can be [run in the web browser via Binder](https://mybinder.org/v2/gh/slicer/SlicerNotebooks/master?filepath=05_SlicerDockerNotebook.ipynb) or locally using a Jupyter server started by this command:\n",
    "\n",
    "    docker run -p 8888:8888 -p49053:49053 -v path/to/my/notebooks:/home/sliceruser/work --rm -ti lassoan/slicer-notebook:latest\n",
    "    \n",
    "Notes:\n",
    "- Replace `path/to/my/notebooks` by the actual local path to your notebook folder.\n",
    "- After the container is started, open `https://127.0.0.1:8888` page in your web browser and copy-paste the token from the docker container's output."
   ]
  },
  {
   "cell_type": "code",
   "execution_count": 2,
   "metadata": {
    "tags": []
   },
   "outputs": [
    {
     "data": {
      "text/html": [
       "\n",
       "        <iframe\n",
       "            width=\"960\"\n",
       "            height=\"768\"\n",
       "            src=\"/desktop/?scale=1.0\"\n",
       "            frameborder=\"0\"\n",
       "            allowfullscreen\n",
       "        ></iframe>\n",
       "        "
      ],
      "text/plain": [
       "<JupyterNotebooksLib.widgets.AppWindow object at 0x7f8abdfd9390>"
      ]
     },
     "execution_count": 2,
     "metadata": {},
     "output_type": "execute_result"
    }
   ],
   "source": [
    "import JupyterNotebooksLib as slicernb\n",
    "\n",
    "# Show slice and 3D views\n",
    "slicernb.ViewDisplay(\"FourUp\")  # You can also try: FourUp, OneUpRedSlice, OneUp3D\n",
    "\n",
    "# Set up application window\n",
    "app = slicernb.AppWindow(scale=1.0)\n",
    "# Hide patient information from slice view\n",
    "slicernb.showSliceViewAnnotations(False)\n",
    "appconsole"
   ]
  },
  {
   "cell_type": "code",
   "execution_count": 3,
   "metadata": {},
   "outputs": [],
   "source": [
    "# Clear scene\n",
    "slicer.mrmlScene.Clear(False)\n",
    "\n",
    "# Load a Slicer sample data set\n",
    "import SampleData\n",
    "volume = SampleData.SampleDataLogic().downloadMRBrainTumor1()\n",
    "\n",
    "# Enable 3D volume rendering\n",
    "slicernb.showVolumeRendering(volume)"
   ]
  },
  {
   "cell_type": "code",
   "execution_count": 4,
   "metadata": {},
   "outputs": [],
   "source": [
    "# Show markups toolbar\n",
    "slicer.modules.markups.toolBarVisible=True\n",
    "\n",
    "# Click on the toolbar buttons to create markups,\n",
    "# then click in the viewers to place them."
   ]
  },
  {
   "cell_type": "code",
   "execution_count": 5,
   "metadata": {},
   "outputs": [],
   "source": [
    "# Display control point positions in each markup node.\n",
    "from IPython.display import HTML\n",
    "for markupsNode in getNodesByClass(\"vtkMRMLMarkupsNode\"):\n",
    "    display(HTML(f\"<h3>Markup: {markupsNode.GetName()}</h3>\"))\n",
    "    display(dataframeFromMarkups(markupsNode))"
   ]
  },
  {
   "cell_type": "code",
   "execution_count": 6,
   "metadata": {},
   "outputs": [],
   "source": [
    "# Show full markups module GUI\n",
    "app.setContents(\"viewers\")\n",
    "slicer.util.findChild(slicer.util.mainWindow(), \"PanelDockWidget\").show()\n",
    "slicer.modules.markups.toolBarVisible=True\n",
    "selectModule(\"Markups\")"
   ]
  },
  {
   "cell_type": "code",
   "execution_count": 7,
   "metadata": {},
   "outputs": [],
   "source": [
    "# Show full application GUI\n",
    "app.setContents(\"full\")"
   ]
  },
  {
   "cell_type": "code",
   "execution_count": 8,
   "metadata": {},
   "outputs": [
    {
     "data": {
      "application/vnd.jupyter.widget-view+json": {
       "model_id": "127ed5ab57fb4f56beb0816235fec72f",
       "version_major": 2,
       "version_minor": 0
      },
      "text/plain": [
       "HTML(value='<a href=\"/desktop/\" target=\"_blank\">\\n<b>Click here</b> to open application window in a new browse…"
      ]
     },
     "metadata": {},
     "output_type": "display_data"
    }
   ],
   "source": [
    "# Create link that shows the application GUI in a new browser tab\n",
    "from ipywidgets import HTML\n",
    "HTML(f\"\"\"<a href=\"{slicernb.AppWindow.defaultDesktopUrl()}\" target=\"_blank\">\n",
    "<b>Click here</b> to open application window in a new browser tab.</a>\"\"\")"
   ]
  },
  {
   "cell_type": "code",
   "execution_count": 9,
   "metadata": {},
   "outputs": [],
   "source": [
    "# Show only viewers\n",
    "app.setContents(\"viewers\")"
   ]
  },
  {
   "cell_type": "code",
   "execution_count": 10,
   "metadata": {},
   "outputs": [
    {
     "data": {
      "application/vnd.jupyter.widget-view+json": {
       "model_id": "407d5968da1f41f1b6f4b87c873dbcba",
       "version_major": 2,
       "version_minor": 0
      },
      "text/plain": [
       "HBox(children=(Button(description='Full', style=ButtonStyle()), Button(description='Viewers', style=ButtonStyl…"
      ]
     },
     "metadata": {},
     "output_type": "display_data"
    }
   ],
   "source": [
    "from ipywidgets import Button, HBox\n",
    "import JupyterNotebooksLib as slicernb\n",
    "fullButton = Button(description='Full')\n",
    "fullButton.on_click(lambda b: slicernb.AppWindow().setContents(\"full\"))\n",
    "viewersButton = Button(description='Viewers')\n",
    "viewersButton.on_click(lambda b: slicernb.AppWindow().setContents(\"viewers\"))\n",
    "markupsToolbarToggleButton = Button(description='Markups toolbar')\n",
    "def toggleMarkupsToolBar(b):\n",
    "    slicer.modules.markups.toolBarVisible = not slicer.modules.markups.toolBarVisible\n",
    "markupsToolbarToggleButton.on_click(toggleMarkupsToolBar)\n",
    "HBox([fullButton, viewersButton, markupsToolbarToggleButton]) "
   ]
  },
  {
   "cell_type": "markdown",
   "metadata": {},
   "source": [
    "#### Run this example in your browser using Binder: [![Binder](https://mybinder.org/badge.svg)](https://mybinder.org/v2/gh/slicer/SlicerNotebooks/master?filepath=05_SlicerDockerNotebook.ipynb)"
   ]
  }
 ],
 "metadata": {
  "kernelspec": {
   "display_name": "Slicer 4.13",
   "language": "python",
   "name": "slicer-4.13"
  },
  "language_info": {
   "file_extension": ".py",
   "mimetype": "text/x-python",
   "name": "python",
   "version": "3.6.7"
  }
 },
 "nbformat": 4,
 "nbformat_minor": 4
}
