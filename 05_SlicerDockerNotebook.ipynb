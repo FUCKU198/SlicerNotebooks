{
 "cells": [
  {
   "cell_type": "markdown",
   "metadata": {},
   "source": [
    "# Slicer Jupyter using docker\n",
    "\n",
    "This notebook is shows how views and full application window can be displayed and configured to be used in JupyterLab when Slicer runs in docker or on a remote workstation.\n",
    "\n",
    "It relies on a remote desktop connection and web proxy set up in the [slicer-notebook docker image](https://github.com/Slicer/SlicerDocker/tree/master/slicer-notebook).\n",
    "\n",
    "This notebook can be [run in the web browser via Binder](https://mybinder.org/v2/gh/slicer/SlicerNotebooks/master?filepath=05_SlicerDockerNotebook.ipynb) or locally using a Jupyter server started by this command:\n",
    "\n",
    "    docker run -p 8888:8888 -p49053:49053 -v path/to/my/notebooks:/home/sliceruser/work --rm -ti lassoan/slicer-notebook:latest\n",
    "    \n",
    "Notes:\n",
    "- Replace `path/to/my/notebooks` by the actual local path to your notebook folder.\n",
    "- After the container is started, open `https://127.0.0.1:8888` page in your web browser and copy-paste the token from the docker container's output."
   ]
  },
  {
   "cell_type": "code",
   "execution_count": 65,
   "metadata": {
    "tags": []
   },
   "outputs": [],
   "source": [
    "# Read an image using SimpleITK\n",
    "\n",
    "import JupyterNotebooksLib as slicernb\n",
    "import SimpleITK as sitk\n",
    "import sitkUtils as su\n",
    "\n",
    "# Load 3D image using SimpleITK\n",
    "reader = sitk.ImageFileReader()\n",
    "reader.SetFileName(\"data/MRBrainTumor1.nrrd\")\n",
    "image = reader.Execute()"
   ]
  },
  {
   "cell_type": "code",
   "execution_count": 67,
   "metadata": {
    "collapsed": true,
    "jupyter": {
     "outputs_hidden": true
    },
    "tags": []
   },
   "outputs": [
    {
     "data": {
      "application/vnd.jupyter.widget-view+json": {
       "model_id": "",
       "version_major": 2,
       "version_minor": 0
      },
      "text/plain": [
       "VBox(children=(ViewSliceWidget(children=(FloatSlider(value=0.0, description='Offset', max=78.40000000000003, m…"
      ]
     },
     "metadata": {},
     "output_type": "display_data"
    }
   ],
   "source": [
    "# Get the SimpleITK image into the Slicer scene\n",
    "slicer.mrmlScene.Clear(False)  # clear any previously loaded data from the scene\n",
    "volumeNode = su.PushVolumeToSlicer(image)\n",
    "\n",
    "# Show volume in slice views\n",
    "slicernb.ViewDisplay(\"FourUp\")  # choose a layout where 3 slice views are present\n",
    "slicer.util.setSliceViewerLayers(background=volumeNode, fit=True)  # show this volume in slice viewers\n",
    "\n",
    "# Create slice view widgets in the notebook\n",
    "from ipywidgets import VBox\n",
    "viewWidgets = VBox([slicernb.ViewSliceWidget('Red'), slicernb.ViewSliceWidget('Yellow'), slicernb.ViewSliceWidget('Green')])\n",
    "viewWidgets.layout.max_width=\"400px\"\n",
    "display(viewWidgets)"
   ]
  },
  {
   "cell_type": "code",
   "execution_count": 71,
   "metadata": {},
   "outputs": [],
   "source": [
    "# Apply some processing and view the udpated results\n",
    "\n",
    "# Process image\n",
    "blurFilter = sitk.SmoothingRecursiveGaussianImageFilter()\n",
    "blurFilter.SetSigma(1.0)\n",
    "blurredImage = blurFilter.Execute(image)\n",
    "\n",
    "# Update view widgets (without this, the user would need to move the sliders to get an updated image)\n",
    "su.PushVolumeToSlicer(blurredImage, targetNode=volumeNode)\n",
    "for viewWidget in viewWidgets.children:\n",
    "    viewWidget.sliceView.updateImage()"
   ]
  },
  {
   "cell_type": "code",
   "execution_count": 79,
   "metadata": {
    "collapsed": true,
    "jupyter": {
     "outputs_hidden": true
    },
    "tags": []
   },
   "outputs": [
    {
     "data": {
      "text/html": [
       "\n",
       "        <iframe\n",
       "            width=\"960\"\n",
       "            height=\"768\"\n",
       "            src=\"/desktop/\"\n",
       "            frameborder=\"0\"\n",
       "            allowfullscreen\n",
       "        ></iframe>\n",
       "        "
      ],
      "text/plain": [
       "<JupyterNotebooksLib.widgets.AppWindow object at 0x7f2c8b989a90>"
      ]
     },
     "metadata": {},
     "output_type": "display_data"
    }
   ],
   "source": [
    "# Set up application window\n",
    "app = slicernb.AppWindow()\n",
    "# Hide patient information from slice view\n",
    "slicernb.showSliceViewAnnotations(False)\n",
    "\n",
    "# Show markups toolbar\n",
    "slicer.modules.markups.toolBarVisible=True\n",
    "\n",
    "# Show volume in 3D view using volume rendering\n",
    "slicernb.showVolumeRendering(volumeNode, True)\n",
    "\n",
    "display(app)\n",
    "\n",
    "# Click on the toolbar buttons to create markups,\n",
    "# then click in the viewers to place them."
   ]
  },
  {
   "cell_type": "code",
   "execution_count": 80,
   "metadata": {},
   "outputs": [
    {
     "data": {
      "text/html": [
       "<h3>Markup: L</h3>"
      ],
      "text/plain": [
       "<display.HTML object>"
      ]
     },
     "metadata": {},
     "output_type": "display_data"
    },
    {
     "data": {
      "text/html": [
       "<div>\n",
       "<style scoped>\n",
       "    .dataframe tbody tr th:only-of-type {\n",
       "        vertical-align: middle;\n",
       "    }\n",
       "\n",
       "    .dataframe tbody tr th {\n",
       "        vertical-align: top;\n",
       "    }\n",
       "\n",
       "    .dataframe thead th {\n",
       "        text-align: right;\n",
       "    }\n",
       "</style>\n",
       "<table border=\"1\" class=\"dataframe\">\n",
       "  <thead>\n",
       "    <tr style=\"text-align: right;\">\n",
       "      <th></th>\n",
       "      <th>label</th>\n",
       "      <th>position.R</th>\n",
       "      <th>position.A</th>\n",
       "      <th>position.S</th>\n",
       "      <th>selected</th>\n",
       "      <th>visible</th>\n",
       "      <th>description</th>\n",
       "    </tr>\n",
       "  </thead>\n",
       "  <tbody>\n",
       "    <tr>\n",
       "      <th>0</th>\n",
       "      <td>L-1</td>\n",
       "      <td>7.043775</td>\n",
       "      <td>20.880253</td>\n",
       "      <td>4.3</td>\n",
       "      <td>True</td>\n",
       "      <td>True</td>\n",
       "      <td></td>\n",
       "    </tr>\n",
       "    <tr>\n",
       "      <th>1</th>\n",
       "      <td>L-2</td>\n",
       "      <td>28.175851</td>\n",
       "      <td>-30.943646</td>\n",
       "      <td>4.3</td>\n",
       "      <td>True</td>\n",
       "      <td>True</td>\n",
       "      <td></td>\n",
       "    </tr>\n",
       "  </tbody>\n",
       "</table>\n",
       "</div>"
      ],
      "text/plain": [
       "  label  position.R  position.A  position.S  selected  visible description\n",
       "0   L-1    7.043775   20.880253         4.3      True     True            \n",
       "1   L-2   28.175851  -30.943646         4.3      True     True            "
      ]
     },
     "metadata": {},
     "output_type": "display_data"
    },
    {
     "data": {
      "text/html": [
       "<h3>Markup: L_1</h3>"
      ],
      "text/plain": [
       "<display.HTML object>"
      ]
     },
     "metadata": {},
     "output_type": "display_data"
    },
    {
     "data": {
      "text/html": [
       "<div>\n",
       "<style scoped>\n",
       "    .dataframe tbody tr th:only-of-type {\n",
       "        vertical-align: middle;\n",
       "    }\n",
       "\n",
       "    .dataframe tbody tr th {\n",
       "        vertical-align: top;\n",
       "    }\n",
       "\n",
       "    .dataframe thead th {\n",
       "        text-align: right;\n",
       "    }\n",
       "</style>\n",
       "<table border=\"1\" class=\"dataframe\">\n",
       "  <thead>\n",
       "    <tr style=\"text-align: right;\">\n",
       "      <th></th>\n",
       "      <th>label</th>\n",
       "      <th>position.R</th>\n",
       "      <th>position.A</th>\n",
       "      <th>position.S</th>\n",
       "      <th>selected</th>\n",
       "      <th>visible</th>\n",
       "      <th>description</th>\n",
       "    </tr>\n",
       "  </thead>\n",
       "  <tbody>\n",
       "  </tbody>\n",
       "</table>\n",
       "</div>"
      ],
      "text/plain": [
       "Empty DataFrame\n",
       "Columns: [label, position.R, position.A, position.S, selected, visible, description]\n",
       "Index: []"
      ]
     },
     "metadata": {},
     "output_type": "display_data"
    },
    {
     "data": {
      "text/html": [
       "<h3>Markup: F</h3>"
      ],
      "text/plain": [
       "<display.HTML object>"
      ]
     },
     "metadata": {},
     "output_type": "display_data"
    },
    {
     "data": {
      "text/html": [
       "<div>\n",
       "<style scoped>\n",
       "    .dataframe tbody tr th:only-of-type {\n",
       "        vertical-align: middle;\n",
       "    }\n",
       "\n",
       "    .dataframe tbody tr th {\n",
       "        vertical-align: top;\n",
       "    }\n",
       "\n",
       "    .dataframe thead th {\n",
       "        text-align: right;\n",
       "    }\n",
       "</style>\n",
       "<table border=\"1\" class=\"dataframe\">\n",
       "  <thead>\n",
       "    <tr style=\"text-align: right;\">\n",
       "      <th></th>\n",
       "      <th>label</th>\n",
       "      <th>position.R</th>\n",
       "      <th>position.A</th>\n",
       "      <th>position.S</th>\n",
       "      <th>selected</th>\n",
       "      <th>visible</th>\n",
       "      <th>description</th>\n",
       "    </tr>\n",
       "  </thead>\n",
       "  <tbody>\n",
       "    <tr>\n",
       "      <th>0</th>\n",
       "      <td>F-1</td>\n",
       "      <td>-32.704653</td>\n",
       "      <td>15.345662</td>\n",
       "      <td>4.300000</td>\n",
       "      <td>True</td>\n",
       "      <td>True</td>\n",
       "      <td></td>\n",
       "    </tr>\n",
       "    <tr>\n",
       "      <th>1</th>\n",
       "      <td>F-2</td>\n",
       "      <td>-10.063143</td>\n",
       "      <td>-23.396476</td>\n",
       "      <td>4.300000</td>\n",
       "      <td>True</td>\n",
       "      <td>True</td>\n",
       "      <td></td>\n",
       "    </tr>\n",
       "    <tr>\n",
       "      <th>2</th>\n",
       "      <td>F-3</td>\n",
       "      <td>-15.233632</td>\n",
       "      <td>0.468500</td>\n",
       "      <td>24.992267</td>\n",
       "      <td>True</td>\n",
       "      <td>True</td>\n",
       "      <td></td>\n",
       "    </tr>\n",
       "  </tbody>\n",
       "</table>\n",
       "</div>"
      ],
      "text/plain": [
       "  label  position.R  position.A  position.S  selected  visible description\n",
       "0   F-1  -32.704653   15.345662    4.300000      True     True            \n",
       "1   F-2  -10.063143  -23.396476    4.300000      True     True            \n",
       "2   F-3  -15.233632    0.468500   24.992267      True     True            "
      ]
     },
     "metadata": {},
     "output_type": "display_data"
    }
   ],
   "source": [
    "# Display control point positions in each markup node.\n",
    "from IPython.display import HTML\n",
    "for markupsNode in getNodesByClass(\"vtkMRMLMarkupsNode\"):\n",
    "    display(HTML(f\"<h3>Markup: {markupsNode.GetName()}</h3>\"))\n",
    "    display(dataframeFromMarkups(markupsNode))"
   ]
  },
  {
   "cell_type": "code",
   "execution_count": 81,
   "metadata": {},
   "outputs": [],
   "source": [
    "# Show full markups module GUI\n",
    "app.setContents(\"viewers\")\n",
    "slicer.util.findChild(slicer.util.mainWindow(), \"PanelDockWidget\").show()\n",
    "slicer.modules.markups.toolBarVisible=True\n",
    "selectModule(\"Markups\")"
   ]
  },
  {
   "cell_type": "code",
   "execution_count": 82,
   "metadata": {},
   "outputs": [],
   "source": [
    "# Show full application GUI\n",
    "app.setContents(\"full\")"
   ]
  },
  {
   "cell_type": "code",
   "execution_count": 83,
   "metadata": {},
   "outputs": [
    {
     "data": {
      "application/vnd.jupyter.widget-view+json": {
       "model_id": "17bac54af8ce44298d9dfe9f1ca34ecc",
       "version_major": 2,
       "version_minor": 0
      },
      "text/plain": [
       "HTML(value='<a href=\"/desktop/\" target=\"_blank\">\\n<b>Click here</b> to open application window in a new browse…"
      ]
     },
     "metadata": {},
     "output_type": "display_data"
    }
   ],
   "source": [
    "# Create link that shows the application GUI in a new browser tab\n",
    "from ipywidgets import HTML\n",
    "HTML(f\"\"\"<a href=\"{slicernb.AppWindow.defaultDesktopUrl()}\" target=\"_blank\">\n",
    "<b>Click here</b> to open application window in a new browser tab.</a>\"\"\")"
   ]
  },
  {
   "cell_type": "code",
   "execution_count": 84,
   "metadata": {},
   "outputs": [],
   "source": [
    "# Show only viewers\n",
    "app.setContents(\"viewers\")"
   ]
  },
  {
   "cell_type": "code",
   "execution_count": 85,
   "metadata": {
    "tags": []
   },
   "outputs": [
    {
     "data": {
      "application/vnd.jupyter.widget-view+json": {
       "model_id": "4c94691fa0554436ba7a3ccdd3971db8",
       "version_major": 2,
       "version_minor": 0
      },
      "text/plain": [
       "HBox(children=(Button(description='Full', style=ButtonStyle()), Button(description='Viewers', style=ButtonStyl…"
      ]
     },
     "metadata": {},
     "output_type": "display_data"
    }
   ],
   "source": [
    "from ipywidgets import Button, HBox\n",
    "import JupyterNotebooksLib as slicernb\n",
    "fullButton = Button(description='Full')\n",
    "fullButton.on_click(lambda b: slicernb.AppWindow().setContents(\"full\"))\n",
    "viewersButton = Button(description='Viewers')\n",
    "viewersButton.on_click(lambda b: slicernb.AppWindow().setContents(\"viewers\"))\n",
    "markupsToolbarToggleButton = Button(description='Markups toolbar')\n",
    "def toggleMarkupsToolBar(b):\n",
    "    slicer.modules.markups.toolBarVisible = not slicer.modules.markups.toolBarVisible\n",
    "markupsToolbarToggleButton.on_click(toggleMarkupsToolBar)\n",
    "HBox([fullButton, viewersButton, markupsToolbarToggleButton]) "
   ]
  },
  {
   "cell_type": "markdown",
   "metadata": {},
   "source": [
    "#### Run this example in your browser using Binder: [![Binder](https://mybinder.org/badge.svg)](https://mybinder.org/v2/gh/slicer/SlicerNotebooks/master?filepath=05_SlicerDockerNotebook.ipynb)"
   ]
  }
 ],
 "metadata": {
  "kernelspec": {
   "display_name": "Slicer 4.13",
   "language": "python",
   "name": "slicer-4.13"
  },
  "language_info": {
   "file_extension": ".py",
   "mimetype": "text/x-python",
   "name": "python",
   "version": "3.6.7"
  }
 },
 "nbformat": 4,
 "nbformat_minor": 4
}
